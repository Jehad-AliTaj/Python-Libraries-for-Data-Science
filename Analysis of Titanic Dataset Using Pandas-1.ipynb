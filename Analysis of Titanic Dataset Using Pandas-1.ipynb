{
 "cells": [
  {
   "cell_type": "markdown",
   "id": "e883962d",
   "metadata": {},
   "source": [
    "                                                                                                               JehadAliTaj"
   ]
  },
  {
   "cell_type": "markdown",
   "id": "3934a08a",
   "metadata": {},
   "source": [
    "#  <span style= \"color:#0373fc>\">  ANALYSIS OF TITANIC DATASET USING PANDAS </span>"
   ]
  },
  {
   "cell_type": "code",
   "execution_count": null,
   "id": "0229edd5",
   "metadata": {},
   "outputs": [],
   "source": []
  },
  {
   "cell_type": "markdown",
   "id": "150bdc63",
   "metadata": {},
   "source": [
    "##    <span style= \"color:#0373fc>\">  Introduction </span>"
   ]
  },
  {
   "cell_type": "markdown",
   "id": "2394185e",
   "metadata": {},
   "source": [
    "**The Titanic sank on April 15, 1912 during her maiden voyage. After colliding with an iceberg, 1502 of its 2224 passengers died. The data set investigated in the following sections contains detailed information about 891 passengers.** "
   ]
  },
  {
   "cell_type": "markdown",
   "id": "7f9186bf",
   "metadata": {},
   "source": [
    "##   <span style= \"color:#0373fc>\"> Feature description </span>"
   ]
  },
  {
   "cell_type": "markdown",
   "id": "b8468ee3",
   "metadata": {},
   "source": [
    "**The data set contains the following parameters for each individual passenger:**"
   ]
  },
  {
   "cell_type": "markdown",
   "id": "4030db4f",
   "metadata": {},
   "source": [
    "* pclass: Passenger class (1 = 1st; 2 = 2nd; 3 = 3rd)\n",
    "* survival: A Boolean indicating whether the passenger survived or not (0 = No; 1 = Yes); this is our target\n",
    "* name: A field rich in information as it contains title and family names\n",
    "* sex: male/female\n",
    "* age: Age, asignificant portion of values aremissing\n",
    "* sibsp: Number of siblings/spouses aboard\n",
    "* parch: Number of parents/children aboard\n",
    "* ticket: Ticket number.\n",
    "* fare: Passenger fare (British Pound).\n",
    "* cabin: Doesthe location of the cabin influence chances of survival?\n",
    "* embarked: Port of embarkation (C = Cherbourg; Q = Queenstown; S = Southampton)\n",
    "* boat: Lifeboat, many missing values\n",
    "* body: Body Identification Number\n",
    "* home.dest: Home/destination\n",
    "\n"
   ]
  },
  {
   "cell_type": "code",
   "execution_count": null,
   "id": "1943926f",
   "metadata": {},
   "outputs": [],
   "source": []
  },
  {
   "cell_type": "markdown",
   "id": "c0502450",
   "metadata": {},
   "source": [
    "###   <span style= \"color:#0373fc>\">Let's start with importing Pandas </span>"
   ]
  },
  {
   "cell_type": "code",
   "execution_count": 48,
   "id": "30381fdd",
   "metadata": {},
   "outputs": [],
   "source": [
    "import pandas as pd"
   ]
  },
  {
   "cell_type": "markdown",
   "id": "d85ed6c0",
   "metadata": {},
   "source": [
    "###   <span style= \"color:#0373fc>\"> Importing the dataset with read_csv   </span>"
   ]
  },
  {
   "cell_type": "code",
   "execution_count": 49,
   "id": "26a7bc83",
   "metadata": {},
   "outputs": [
    {
     "data": {
      "text/html": [
       "<div>\n",
       "<style scoped>\n",
       "    .dataframe tbody tr th:only-of-type {\n",
       "        vertical-align: middle;\n",
       "    }\n",
       "\n",
       "    .dataframe tbody tr th {\n",
       "        vertical-align: top;\n",
       "    }\n",
       "\n",
       "    .dataframe thead th {\n",
       "        text-align: right;\n",
       "    }\n",
       "</style>\n",
       "<table border=\"1\" class=\"dataframe\">\n",
       "  <thead>\n",
       "    <tr style=\"text-align: right;\">\n",
       "      <th></th>\n",
       "      <th>PassengerId</th>\n",
       "      <th>Survived</th>\n",
       "      <th>Pclass</th>\n",
       "      <th>Name</th>\n",
       "      <th>Sex</th>\n",
       "      <th>Age</th>\n",
       "      <th>SibSp</th>\n",
       "      <th>Parch</th>\n",
       "      <th>Ticket</th>\n",
       "      <th>Fare</th>\n",
       "      <th>Cabin</th>\n",
       "      <th>Embarked</th>\n",
       "    </tr>\n",
       "  </thead>\n",
       "  <tbody>\n",
       "    <tr>\n",
       "      <th>0</th>\n",
       "      <td>1</td>\n",
       "      <td>0</td>\n",
       "      <td>3</td>\n",
       "      <td>Braund, Mr. Owen Harris</td>\n",
       "      <td>male</td>\n",
       "      <td>22.0</td>\n",
       "      <td>1</td>\n",
       "      <td>0</td>\n",
       "      <td>A/5 21171</td>\n",
       "      <td>7.2500</td>\n",
       "      <td>NaN</td>\n",
       "      <td>S</td>\n",
       "    </tr>\n",
       "    <tr>\n",
       "      <th>1</th>\n",
       "      <td>2</td>\n",
       "      <td>1</td>\n",
       "      <td>1</td>\n",
       "      <td>Cumings, Mrs. John Bradley (Florence Briggs Th...</td>\n",
       "      <td>female</td>\n",
       "      <td>38.0</td>\n",
       "      <td>1</td>\n",
       "      <td>0</td>\n",
       "      <td>PC 17599</td>\n",
       "      <td>71.2833</td>\n",
       "      <td>C85</td>\n",
       "      <td>C</td>\n",
       "    </tr>\n",
       "    <tr>\n",
       "      <th>2</th>\n",
       "      <td>3</td>\n",
       "      <td>1</td>\n",
       "      <td>3</td>\n",
       "      <td>Heikkinen, Miss. Laina</td>\n",
       "      <td>female</td>\n",
       "      <td>26.0</td>\n",
       "      <td>0</td>\n",
       "      <td>0</td>\n",
       "      <td>STON/O2. 3101282</td>\n",
       "      <td>7.9250</td>\n",
       "      <td>NaN</td>\n",
       "      <td>S</td>\n",
       "    </tr>\n",
       "    <tr>\n",
       "      <th>3</th>\n",
       "      <td>4</td>\n",
       "      <td>1</td>\n",
       "      <td>1</td>\n",
       "      <td>Futrelle, Mrs. Jacques Heath (Lily May Peel)</td>\n",
       "      <td>female</td>\n",
       "      <td>35.0</td>\n",
       "      <td>1</td>\n",
       "      <td>0</td>\n",
       "      <td>113803</td>\n",
       "      <td>53.1000</td>\n",
       "      <td>C123</td>\n",
       "      <td>S</td>\n",
       "    </tr>\n",
       "    <tr>\n",
       "      <th>4</th>\n",
       "      <td>5</td>\n",
       "      <td>0</td>\n",
       "      <td>3</td>\n",
       "      <td>Allen, Mr. William Henry</td>\n",
       "      <td>male</td>\n",
       "      <td>35.0</td>\n",
       "      <td>0</td>\n",
       "      <td>0</td>\n",
       "      <td>373450</td>\n",
       "      <td>8.0500</td>\n",
       "      <td>NaN</td>\n",
       "      <td>S</td>\n",
       "    </tr>\n",
       "    <tr>\n",
       "      <th>...</th>\n",
       "      <td>...</td>\n",
       "      <td>...</td>\n",
       "      <td>...</td>\n",
       "      <td>...</td>\n",
       "      <td>...</td>\n",
       "      <td>...</td>\n",
       "      <td>...</td>\n",
       "      <td>...</td>\n",
       "      <td>...</td>\n",
       "      <td>...</td>\n",
       "      <td>...</td>\n",
       "      <td>...</td>\n",
       "    </tr>\n",
       "    <tr>\n",
       "      <th>886</th>\n",
       "      <td>887</td>\n",
       "      <td>0</td>\n",
       "      <td>2</td>\n",
       "      <td>Montvila, Rev. Juozas</td>\n",
       "      <td>male</td>\n",
       "      <td>27.0</td>\n",
       "      <td>0</td>\n",
       "      <td>0</td>\n",
       "      <td>211536</td>\n",
       "      <td>13.0000</td>\n",
       "      <td>NaN</td>\n",
       "      <td>S</td>\n",
       "    </tr>\n",
       "    <tr>\n",
       "      <th>887</th>\n",
       "      <td>888</td>\n",
       "      <td>1</td>\n",
       "      <td>1</td>\n",
       "      <td>Graham, Miss. Margaret Edith</td>\n",
       "      <td>female</td>\n",
       "      <td>19.0</td>\n",
       "      <td>0</td>\n",
       "      <td>0</td>\n",
       "      <td>112053</td>\n",
       "      <td>30.0000</td>\n",
       "      <td>B42</td>\n",
       "      <td>S</td>\n",
       "    </tr>\n",
       "    <tr>\n",
       "      <th>888</th>\n",
       "      <td>889</td>\n",
       "      <td>0</td>\n",
       "      <td>3</td>\n",
       "      <td>Johnston, Miss. Catherine Helen \"Carrie\"</td>\n",
       "      <td>female</td>\n",
       "      <td>NaN</td>\n",
       "      <td>1</td>\n",
       "      <td>2</td>\n",
       "      <td>W./C. 6607</td>\n",
       "      <td>23.4500</td>\n",
       "      <td>NaN</td>\n",
       "      <td>S</td>\n",
       "    </tr>\n",
       "    <tr>\n",
       "      <th>889</th>\n",
       "      <td>890</td>\n",
       "      <td>1</td>\n",
       "      <td>1</td>\n",
       "      <td>Behr, Mr. Karl Howell</td>\n",
       "      <td>male</td>\n",
       "      <td>26.0</td>\n",
       "      <td>0</td>\n",
       "      <td>0</td>\n",
       "      <td>111369</td>\n",
       "      <td>30.0000</td>\n",
       "      <td>C148</td>\n",
       "      <td>C</td>\n",
       "    </tr>\n",
       "    <tr>\n",
       "      <th>890</th>\n",
       "      <td>891</td>\n",
       "      <td>0</td>\n",
       "      <td>3</td>\n",
       "      <td>Dooley, Mr. Patrick</td>\n",
       "      <td>male</td>\n",
       "      <td>32.0</td>\n",
       "      <td>0</td>\n",
       "      <td>0</td>\n",
       "      <td>370376</td>\n",
       "      <td>7.7500</td>\n",
       "      <td>NaN</td>\n",
       "      <td>Q</td>\n",
       "    </tr>\n",
       "  </tbody>\n",
       "</table>\n",
       "<p>891 rows × 12 columns</p>\n",
       "</div>"
      ],
      "text/plain": [
       "     PassengerId  Survived  Pclass  \\\n",
       "0              1         0       3   \n",
       "1              2         1       1   \n",
       "2              3         1       3   \n",
       "3              4         1       1   \n",
       "4              5         0       3   \n",
       "..           ...       ...     ...   \n",
       "886          887         0       2   \n",
       "887          888         1       1   \n",
       "888          889         0       3   \n",
       "889          890         1       1   \n",
       "890          891         0       3   \n",
       "\n",
       "                                                  Name     Sex   Age  SibSp  \\\n",
       "0                              Braund, Mr. Owen Harris    male  22.0      1   \n",
       "1    Cumings, Mrs. John Bradley (Florence Briggs Th...  female  38.0      1   \n",
       "2                               Heikkinen, Miss. Laina  female  26.0      0   \n",
       "3         Futrelle, Mrs. Jacques Heath (Lily May Peel)  female  35.0      1   \n",
       "4                             Allen, Mr. William Henry    male  35.0      0   \n",
       "..                                                 ...     ...   ...    ...   \n",
       "886                              Montvila, Rev. Juozas    male  27.0      0   \n",
       "887                       Graham, Miss. Margaret Edith  female  19.0      0   \n",
       "888           Johnston, Miss. Catherine Helen \"Carrie\"  female   NaN      1   \n",
       "889                              Behr, Mr. Karl Howell    male  26.0      0   \n",
       "890                                Dooley, Mr. Patrick    male  32.0      0   \n",
       "\n",
       "     Parch            Ticket     Fare Cabin Embarked  \n",
       "0        0         A/5 21171   7.2500   NaN        S  \n",
       "1        0          PC 17599  71.2833   C85        C  \n",
       "2        0  STON/O2. 3101282   7.9250   NaN        S  \n",
       "3        0            113803  53.1000  C123        S  \n",
       "4        0            373450   8.0500   NaN        S  \n",
       "..     ...               ...      ...   ...      ...  \n",
       "886      0            211536  13.0000   NaN        S  \n",
       "887      0            112053  30.0000   B42        S  \n",
       "888      2        W./C. 6607  23.4500   NaN        S  \n",
       "889      0            111369  30.0000  C148        C  \n",
       "890      0            370376   7.7500   NaN        Q  \n",
       "\n",
       "[891 rows x 12 columns]"
      ]
     },
     "execution_count": 49,
     "metadata": {},
     "output_type": "execute_result"
    }
   ],
   "source": [
    "df= pd.read_csv(\"train.csv\")\n",
    "df"
   ]
  },
  {
   "cell_type": "markdown",
   "id": "cbb0f5bf",
   "metadata": {},
   "source": [
    "###  <span style= \"color:#0373fc>\">  Getting some information about dataset   </span>"
   ]
  },
  {
   "cell_type": "code",
   "execution_count": 50,
   "id": "d98f3f83",
   "metadata": {},
   "outputs": [
    {
     "name": "stdout",
     "output_type": "stream",
     "text": [
      "<class 'pandas.core.frame.DataFrame'>\n",
      "RangeIndex: 891 entries, 0 to 890\n",
      "Data columns (total 12 columns):\n",
      " #   Column       Non-Null Count  Dtype  \n",
      "---  ------       --------------  -----  \n",
      " 0   PassengerId  891 non-null    int64  \n",
      " 1   Survived     891 non-null    int64  \n",
      " 2   Pclass       891 non-null    int64  \n",
      " 3   Name         891 non-null    object \n",
      " 4   Sex          891 non-null    object \n",
      " 5   Age          714 non-null    float64\n",
      " 6   SibSp        891 non-null    int64  \n",
      " 7   Parch        891 non-null    int64  \n",
      " 8   Ticket       891 non-null    object \n",
      " 9   Fare         891 non-null    float64\n",
      " 10  Cabin        204 non-null    object \n",
      " 11  Embarked     889 non-null    object \n",
      "dtypes: float64(2), int64(5), object(5)\n",
      "memory usage: 83.7+ KB\n"
     ]
    }
   ],
   "source": [
    "df.info()"
   ]
  },
  {
   "cell_type": "markdown",
   "id": "05d91a90",
   "metadata": {},
   "source": [
    "#### Summary of Numerical data\n"
   ]
  },
  {
   "cell_type": "code",
   "execution_count": 7,
   "id": "b45482d3",
   "metadata": {},
   "outputs": [
    {
     "data": {
      "text/html": [
       "<div>\n",
       "<style scoped>\n",
       "    .dataframe tbody tr th:only-of-type {\n",
       "        vertical-align: middle;\n",
       "    }\n",
       "\n",
       "    .dataframe tbody tr th {\n",
       "        vertical-align: top;\n",
       "    }\n",
       "\n",
       "    .dataframe thead th {\n",
       "        text-align: right;\n",
       "    }\n",
       "</style>\n",
       "<table border=\"1\" class=\"dataframe\">\n",
       "  <thead>\n",
       "    <tr style=\"text-align: right;\">\n",
       "      <th></th>\n",
       "      <th>PassengerId</th>\n",
       "      <th>Survived</th>\n",
       "      <th>Pclass</th>\n",
       "      <th>Age</th>\n",
       "      <th>SibSp</th>\n",
       "      <th>Parch</th>\n",
       "      <th>Fare</th>\n",
       "    </tr>\n",
       "  </thead>\n",
       "  <tbody>\n",
       "    <tr>\n",
       "      <th>count</th>\n",
       "      <td>891.000000</td>\n",
       "      <td>891.000000</td>\n",
       "      <td>891.000000</td>\n",
       "      <td>714.000000</td>\n",
       "      <td>891.000000</td>\n",
       "      <td>891.000000</td>\n",
       "      <td>891.000000</td>\n",
       "    </tr>\n",
       "    <tr>\n",
       "      <th>mean</th>\n",
       "      <td>446.000000</td>\n",
       "      <td>0.383838</td>\n",
       "      <td>2.308642</td>\n",
       "      <td>29.699118</td>\n",
       "      <td>0.523008</td>\n",
       "      <td>0.381594</td>\n",
       "      <td>32.204208</td>\n",
       "    </tr>\n",
       "    <tr>\n",
       "      <th>std</th>\n",
       "      <td>257.353842</td>\n",
       "      <td>0.486592</td>\n",
       "      <td>0.836071</td>\n",
       "      <td>14.526497</td>\n",
       "      <td>1.102743</td>\n",
       "      <td>0.806057</td>\n",
       "      <td>49.693429</td>\n",
       "    </tr>\n",
       "    <tr>\n",
       "      <th>min</th>\n",
       "      <td>1.000000</td>\n",
       "      <td>0.000000</td>\n",
       "      <td>1.000000</td>\n",
       "      <td>0.420000</td>\n",
       "      <td>0.000000</td>\n",
       "      <td>0.000000</td>\n",
       "      <td>0.000000</td>\n",
       "    </tr>\n",
       "    <tr>\n",
       "      <th>25%</th>\n",
       "      <td>223.500000</td>\n",
       "      <td>0.000000</td>\n",
       "      <td>2.000000</td>\n",
       "      <td>20.125000</td>\n",
       "      <td>0.000000</td>\n",
       "      <td>0.000000</td>\n",
       "      <td>7.910400</td>\n",
       "    </tr>\n",
       "    <tr>\n",
       "      <th>50%</th>\n",
       "      <td>446.000000</td>\n",
       "      <td>0.000000</td>\n",
       "      <td>3.000000</td>\n",
       "      <td>28.000000</td>\n",
       "      <td>0.000000</td>\n",
       "      <td>0.000000</td>\n",
       "      <td>14.454200</td>\n",
       "    </tr>\n",
       "    <tr>\n",
       "      <th>75%</th>\n",
       "      <td>668.500000</td>\n",
       "      <td>1.000000</td>\n",
       "      <td>3.000000</td>\n",
       "      <td>38.000000</td>\n",
       "      <td>1.000000</td>\n",
       "      <td>0.000000</td>\n",
       "      <td>31.000000</td>\n",
       "    </tr>\n",
       "    <tr>\n",
       "      <th>max</th>\n",
       "      <td>891.000000</td>\n",
       "      <td>1.000000</td>\n",
       "      <td>3.000000</td>\n",
       "      <td>80.000000</td>\n",
       "      <td>8.000000</td>\n",
       "      <td>6.000000</td>\n",
       "      <td>512.329200</td>\n",
       "    </tr>\n",
       "  </tbody>\n",
       "</table>\n",
       "</div>"
      ],
      "text/plain": [
       "       PassengerId    Survived      Pclass         Age       SibSp  \\\n",
       "count   891.000000  891.000000  891.000000  714.000000  891.000000   \n",
       "mean    446.000000    0.383838    2.308642   29.699118    0.523008   \n",
       "std     257.353842    0.486592    0.836071   14.526497    1.102743   \n",
       "min       1.000000    0.000000    1.000000    0.420000    0.000000   \n",
       "25%     223.500000    0.000000    2.000000   20.125000    0.000000   \n",
       "50%     446.000000    0.000000    3.000000   28.000000    0.000000   \n",
       "75%     668.500000    1.000000    3.000000   38.000000    1.000000   \n",
       "max     891.000000    1.000000    3.000000   80.000000    8.000000   \n",
       "\n",
       "            Parch        Fare  \n",
       "count  891.000000  891.000000  \n",
       "mean     0.381594   32.204208  \n",
       "std      0.806057   49.693429  \n",
       "min      0.000000    0.000000  \n",
       "25%      0.000000    7.910400  \n",
       "50%      0.000000   14.454200  \n",
       "75%      0.000000   31.000000  \n",
       "max      6.000000  512.329200  "
      ]
     },
     "execution_count": 7,
     "metadata": {},
     "output_type": "execute_result"
    }
   ],
   "source": [
    "df.describe()"
   ]
  },
  {
   "cell_type": "markdown",
   "id": "7799d4ed",
   "metadata": {},
   "source": [
    "#### Summary about catagorical data"
   ]
  },
  {
   "cell_type": "code",
   "execution_count": 8,
   "id": "6510259f",
   "metadata": {
    "scrolled": true
   },
   "outputs": [
    {
     "name": "stdout",
     "output_type": "stream",
     "text": [
      "                         Name   Sex    Ticket    Cabin Embarked\n",
      "count                     891   891       891      204      889\n",
      "unique                    891     2       681      147        3\n",
      "top     Rood, Mr. Hugh Roscoe  male  CA. 2343  B96 B98        S\n",
      "freq                        1   577         7        4      644\n"
     ]
    }
   ],
   "source": [
    "print(df.describe(include=['O']))"
   ]
  },
  {
   "cell_type": "markdown",
   "id": "920da94f",
   "metadata": {},
   "source": [
    "###  <span style= \"color:#0373fc>\">  Finding the null values   </span>"
   ]
  },
  {
   "cell_type": "code",
   "execution_count": 9,
   "id": "8ae5e744",
   "metadata": {},
   "outputs": [
    {
     "data": {
      "text/plain": [
       "PassengerId      0\n",
       "Survived         0\n",
       "Pclass           0\n",
       "Name             0\n",
       "Sex              0\n",
       "Age            177\n",
       "SibSp            0\n",
       "Parch            0\n",
       "Ticket           0\n",
       "Fare             0\n",
       "Cabin          687\n",
       "Embarked         2\n",
       "dtype: int64"
      ]
     },
     "execution_count": 9,
     "metadata": {},
     "output_type": "execute_result"
    }
   ],
   "source": [
    "df.isnull().sum()"
   ]
  },
  {
   "cell_type": "markdown",
   "id": "74afd339",
   "metadata": {},
   "source": [
    "###    <span style= \"color:#0373fc>\">   Dropping Columns</span>"
   ]
  },
  {
   "cell_type": "markdown",
   "id": "3fd05d2c",
   "metadata": {},
   "source": [
    "* The Dataset contains information that will not be usefull for analysis. i-e \"PassengerId\", \"Ticket\"\n",
    "* \"Cabin\" column contains so many \"NaN\" values, Therefore, drop this as well.\n"
   ]
  },
  {
   "cell_type": "code",
   "execution_count": 10,
   "id": "b6aa3f3f",
   "metadata": {},
   "outputs": [
    {
     "name": "stdout",
     "output_type": "stream",
     "text": [
      "['Survived' 'Pclass' 'Name' 'Sex' 'Age' 'SibSp' 'Parch' 'Fare' 'Embarked']\n"
     ]
    }
   ],
   "source": [
    "df.drop(['PassengerId', 'Ticket','Cabin'], axis=1,  inplace= True)\n",
    "\n",
    "print(df.columns.values)"
   ]
  },
  {
   "cell_type": "code",
   "execution_count": 12,
   "id": "7c21a292",
   "metadata": {
    "scrolled": true
   },
   "outputs": [
    {
     "data": {
      "text/plain": [
       "Survived      0\n",
       "Pclass        0\n",
       "Name          0\n",
       "Sex           0\n",
       "Age         177\n",
       "SibSp         0\n",
       "Parch         0\n",
       "Fare          0\n",
       "Embarked      2\n",
       "dtype: int64"
      ]
     },
     "execution_count": 12,
     "metadata": {},
     "output_type": "execute_result"
    }
   ],
   "source": [
    "df.isnull().sum()"
   ]
  },
  {
   "cell_type": "markdown",
   "id": "6b973b0d",
   "metadata": {},
   "source": [
    "###   <span style= \"color:#0373fc>\"> Data Cleaning  </span>"
   ]
  },
  {
   "cell_type": "markdown",
   "id": "62703f11",
   "metadata": {},
   "source": [
    "* To get rid of the the floating point numbers, all values are rounded up to the closest integer\n",
    "* ceil() function from the Numpy module is used."
   ]
  },
  {
   "cell_type": "code",
   "execution_count": 13,
   "id": "7e5473df",
   "metadata": {},
   "outputs": [],
   "source": [
    "import numpy as np"
   ]
  },
  {
   "cell_type": "code",
   "execution_count": 14,
   "id": "b787f2d1",
   "metadata": {},
   "outputs": [],
   "source": [
    "df[\"Age\"]= np.ceil(df[\"Age\"])"
   ]
  },
  {
   "cell_type": "code",
   "execution_count": 15,
   "id": "a26234ec",
   "metadata": {},
   "outputs": [
    {
     "data": {
      "text/plain": [
       "0      22.0\n",
       "1      38.0\n",
       "2      26.0\n",
       "3      35.0\n",
       "4      35.0\n",
       "       ... \n",
       "886    27.0\n",
       "887    19.0\n",
       "888     NaN\n",
       "889    26.0\n",
       "890    32.0\n",
       "Name: Age, Length: 891, dtype: float64"
      ]
     },
     "execution_count": 15,
     "metadata": {},
     "output_type": "execute_result"
    }
   ],
   "source": [
    "df[\"Age\"]"
   ]
  },
  {
   "cell_type": "markdown",
   "id": "525f6955",
   "metadata": {},
   "source": [
    "#### Filling missing values"
   ]
  },
  {
   "cell_type": "code",
   "execution_count": 16,
   "id": "b71d6b69",
   "metadata": {
    "scrolled": true
   },
   "outputs": [
    {
     "data": {
      "text/html": [
       "<div>\n",
       "<style scoped>\n",
       "    .dataframe tbody tr th:only-of-type {\n",
       "        vertical-align: middle;\n",
       "    }\n",
       "\n",
       "    .dataframe tbody tr th {\n",
       "        vertical-align: top;\n",
       "    }\n",
       "\n",
       "    .dataframe thead th {\n",
       "        text-align: right;\n",
       "    }\n",
       "</style>\n",
       "<table border=\"1\" class=\"dataframe\">\n",
       "  <thead>\n",
       "    <tr style=\"text-align: right;\">\n",
       "      <th></th>\n",
       "      <th>Survived</th>\n",
       "      <th>Pclass</th>\n",
       "      <th>Name</th>\n",
       "      <th>Sex</th>\n",
       "      <th>Age</th>\n",
       "      <th>SibSp</th>\n",
       "      <th>Parch</th>\n",
       "      <th>Fare</th>\n",
       "      <th>Embarked</th>\n",
       "    </tr>\n",
       "  </thead>\n",
       "  <tbody>\n",
       "    <tr>\n",
       "      <th>0</th>\n",
       "      <td>False</td>\n",
       "      <td>False</td>\n",
       "      <td>False</td>\n",
       "      <td>False</td>\n",
       "      <td>False</td>\n",
       "      <td>False</td>\n",
       "      <td>False</td>\n",
       "      <td>False</td>\n",
       "      <td>False</td>\n",
       "    </tr>\n",
       "    <tr>\n",
       "      <th>1</th>\n",
       "      <td>False</td>\n",
       "      <td>False</td>\n",
       "      <td>False</td>\n",
       "      <td>False</td>\n",
       "      <td>False</td>\n",
       "      <td>False</td>\n",
       "      <td>False</td>\n",
       "      <td>False</td>\n",
       "      <td>False</td>\n",
       "    </tr>\n",
       "    <tr>\n",
       "      <th>2</th>\n",
       "      <td>False</td>\n",
       "      <td>False</td>\n",
       "      <td>False</td>\n",
       "      <td>False</td>\n",
       "      <td>False</td>\n",
       "      <td>False</td>\n",
       "      <td>False</td>\n",
       "      <td>False</td>\n",
       "      <td>False</td>\n",
       "    </tr>\n",
       "    <tr>\n",
       "      <th>3</th>\n",
       "      <td>False</td>\n",
       "      <td>False</td>\n",
       "      <td>False</td>\n",
       "      <td>False</td>\n",
       "      <td>False</td>\n",
       "      <td>False</td>\n",
       "      <td>False</td>\n",
       "      <td>False</td>\n",
       "      <td>False</td>\n",
       "    </tr>\n",
       "    <tr>\n",
       "      <th>4</th>\n",
       "      <td>False</td>\n",
       "      <td>False</td>\n",
       "      <td>False</td>\n",
       "      <td>False</td>\n",
       "      <td>False</td>\n",
       "      <td>False</td>\n",
       "      <td>False</td>\n",
       "      <td>False</td>\n",
       "      <td>False</td>\n",
       "    </tr>\n",
       "    <tr>\n",
       "      <th>...</th>\n",
       "      <td>...</td>\n",
       "      <td>...</td>\n",
       "      <td>...</td>\n",
       "      <td>...</td>\n",
       "      <td>...</td>\n",
       "      <td>...</td>\n",
       "      <td>...</td>\n",
       "      <td>...</td>\n",
       "      <td>...</td>\n",
       "    </tr>\n",
       "    <tr>\n",
       "      <th>886</th>\n",
       "      <td>False</td>\n",
       "      <td>False</td>\n",
       "      <td>False</td>\n",
       "      <td>False</td>\n",
       "      <td>False</td>\n",
       "      <td>False</td>\n",
       "      <td>False</td>\n",
       "      <td>False</td>\n",
       "      <td>False</td>\n",
       "    </tr>\n",
       "    <tr>\n",
       "      <th>887</th>\n",
       "      <td>False</td>\n",
       "      <td>False</td>\n",
       "      <td>False</td>\n",
       "      <td>False</td>\n",
       "      <td>False</td>\n",
       "      <td>False</td>\n",
       "      <td>False</td>\n",
       "      <td>False</td>\n",
       "      <td>False</td>\n",
       "    </tr>\n",
       "    <tr>\n",
       "      <th>888</th>\n",
       "      <td>False</td>\n",
       "      <td>False</td>\n",
       "      <td>False</td>\n",
       "      <td>False</td>\n",
       "      <td>True</td>\n",
       "      <td>False</td>\n",
       "      <td>False</td>\n",
       "      <td>False</td>\n",
       "      <td>False</td>\n",
       "    </tr>\n",
       "    <tr>\n",
       "      <th>889</th>\n",
       "      <td>False</td>\n",
       "      <td>False</td>\n",
       "      <td>False</td>\n",
       "      <td>False</td>\n",
       "      <td>False</td>\n",
       "      <td>False</td>\n",
       "      <td>False</td>\n",
       "      <td>False</td>\n",
       "      <td>False</td>\n",
       "    </tr>\n",
       "    <tr>\n",
       "      <th>890</th>\n",
       "      <td>False</td>\n",
       "      <td>False</td>\n",
       "      <td>False</td>\n",
       "      <td>False</td>\n",
       "      <td>False</td>\n",
       "      <td>False</td>\n",
       "      <td>False</td>\n",
       "      <td>False</td>\n",
       "      <td>False</td>\n",
       "    </tr>\n",
       "  </tbody>\n",
       "</table>\n",
       "<p>891 rows × 9 columns</p>\n",
       "</div>"
      ],
      "text/plain": [
       "     Survived  Pclass   Name    Sex    Age  SibSp  Parch   Fare  Embarked\n",
       "0       False   False  False  False  False  False  False  False     False\n",
       "1       False   False  False  False  False  False  False  False     False\n",
       "2       False   False  False  False  False  False  False  False     False\n",
       "3       False   False  False  False  False  False  False  False     False\n",
       "4       False   False  False  False  False  False  False  False     False\n",
       "..        ...     ...    ...    ...    ...    ...    ...    ...       ...\n",
       "886     False   False  False  False  False  False  False  False     False\n",
       "887     False   False  False  False  False  False  False  False     False\n",
       "888     False   False  False  False   True  False  False  False     False\n",
       "889     False   False  False  False  False  False  False  False     False\n",
       "890     False   False  False  False  False  False  False  False     False\n",
       "\n",
       "[891 rows x 9 columns]"
      ]
     },
     "execution_count": 16,
     "metadata": {},
     "output_type": "execute_result"
    }
   ],
   "source": [
    "#Checking missing values\n",
    "df.isnull()"
   ]
  },
  {
   "cell_type": "code",
   "execution_count": 17,
   "id": "c70a4bc1",
   "metadata": {},
   "outputs": [],
   "source": [
    "age_mean = df['Age'].mean()"
   ]
  },
  {
   "cell_type": "code",
   "execution_count": 18,
   "id": "99c4e43b",
   "metadata": {},
   "outputs": [],
   "source": [
    "df.fillna(df.mean(), inplace = True)"
   ]
  },
  {
   "cell_type": "code",
   "execution_count": 19,
   "id": "04b892f5",
   "metadata": {},
   "outputs": [
    {
     "data": {
      "text/plain": [
       "Survived    0\n",
       "Pclass      0\n",
       "Name        0\n",
       "Sex         0\n",
       "Age         0\n",
       "SibSp       0\n",
       "Parch       0\n",
       "Fare        0\n",
       "Embarked    2\n",
       "dtype: int64"
      ]
     },
     "execution_count": 19,
     "metadata": {},
     "output_type": "execute_result"
    }
   ],
   "source": [
    "df.isnull().sum()"
   ]
  },
  {
   "cell_type": "code",
   "execution_count": 20,
   "id": "747bd3df",
   "metadata": {},
   "outputs": [
    {
     "name": "stdout",
     "output_type": "stream",
     "text": [
      "Remaining NaN values: 0\n"
     ]
    }
   ],
   "source": [
    "# check if all values have been replaced\n",
    "print(\"Remaining NaN values: {}\".format(df['Age'].isnull().sum()))"
   ]
  },
  {
   "cell_type": "code",
   "execution_count": 21,
   "id": "38192ddb",
   "metadata": {},
   "outputs": [],
   "source": [
    "df.fillna(df.mean(), inplace = True)"
   ]
  },
  {
   "cell_type": "code",
   "execution_count": 22,
   "id": "d15ae167",
   "metadata": {},
   "outputs": [
    {
     "data": {
      "text/plain": [
       "Survived    0\n",
       "Pclass      0\n",
       "Name        0\n",
       "Sex         0\n",
       "Age         0\n",
       "SibSp       0\n",
       "Parch       0\n",
       "Fare        0\n",
       "Embarked    2\n",
       "dtype: int64"
      ]
     },
     "execution_count": 22,
     "metadata": {},
     "output_type": "execute_result"
    }
   ],
   "source": [
    "df.isnull().sum()"
   ]
  },
  {
   "cell_type": "markdown",
   "id": "78e9b7f9",
   "metadata": {},
   "source": [
    "**The embarked column misses only 2 values. To replace these, we use the most common port which is by far (about 72 %) Southampton.**"
   ]
  },
  {
   "cell_type": "code",
   "execution_count": 23,
   "id": "6b3019e2",
   "metadata": {},
   "outputs": [],
   "source": [
    "# replace NaN values with S\n",
    "df['Embarked'] = df['Embarked'].fillna('S')"
   ]
  },
  {
   "cell_type": "code",
   "execution_count": 24,
   "id": "68fd2f83",
   "metadata": {
    "scrolled": true
   },
   "outputs": [
    {
     "data": {
      "text/plain": [
       "Survived    0\n",
       "Pclass      0\n",
       "Name        0\n",
       "Sex         0\n",
       "Age         0\n",
       "SibSp       0\n",
       "Parch       0\n",
       "Fare        0\n",
       "Embarked    0\n",
       "dtype: int64"
      ]
     },
     "execution_count": 24,
     "metadata": {},
     "output_type": "execute_result"
    }
   ],
   "source": [
    "df.isnull().sum()"
   ]
  },
  {
   "cell_type": "code",
   "execution_count": null,
   "id": "98fe7b27",
   "metadata": {},
   "outputs": [],
   "source": []
  },
  {
   "cell_type": "code",
   "execution_count": null,
   "id": "f83bb1ae",
   "metadata": {},
   "outputs": [],
   "source": []
  },
  {
   "cell_type": "markdown",
   "id": "2ee0da40",
   "metadata": {},
   "source": [
    "###  <span style= \"color:#0373fc>\">  Columns Selection </span>"
   ]
  },
  {
   "cell_type": "code",
   "execution_count": 25,
   "id": "d19e1056",
   "metadata": {},
   "outputs": [],
   "source": [
    "survived = df.Survived\n",
    "sex = df.Sex\n",
    "classs = df.Pclass\n",
    "sibsp = df.SibSp\n",
    "age = df.Age\n",
    "lisst = list(zip(survived,sex,classs,sibsp,age))\n",
    "columns = ['Survived', 'Sex', 'Pclass', 'SibSp', 'Age']\n",
    "df_list= pd.DataFrame(lisst, columns= columns)\n",
    "df_list.isnull().sum()\n",
    "df_list.fillna(df_list.mean(), inplace = True)"
   ]
  },
  {
   "cell_type": "code",
   "execution_count": 26,
   "id": "fac1f671",
   "metadata": {},
   "outputs": [
    {
     "data": {
      "text/html": [
       "<div>\n",
       "<style scoped>\n",
       "    .dataframe tbody tr th:only-of-type {\n",
       "        vertical-align: middle;\n",
       "    }\n",
       "\n",
       "    .dataframe tbody tr th {\n",
       "        vertical-align: top;\n",
       "    }\n",
       "\n",
       "    .dataframe thead th {\n",
       "        text-align: right;\n",
       "    }\n",
       "</style>\n",
       "<table border=\"1\" class=\"dataframe\">\n",
       "  <thead>\n",
       "    <tr style=\"text-align: right;\">\n",
       "      <th></th>\n",
       "      <th>Survived</th>\n",
       "      <th>Sex</th>\n",
       "      <th>Pclass</th>\n",
       "      <th>SibSp</th>\n",
       "      <th>Age</th>\n",
       "    </tr>\n",
       "  </thead>\n",
       "  <tbody>\n",
       "    <tr>\n",
       "      <th>0</th>\n",
       "      <td>0</td>\n",
       "      <td>male</td>\n",
       "      <td>3</td>\n",
       "      <td>1</td>\n",
       "      <td>22.000000</td>\n",
       "    </tr>\n",
       "    <tr>\n",
       "      <th>1</th>\n",
       "      <td>1</td>\n",
       "      <td>female</td>\n",
       "      <td>1</td>\n",
       "      <td>1</td>\n",
       "      <td>38.000000</td>\n",
       "    </tr>\n",
       "    <tr>\n",
       "      <th>2</th>\n",
       "      <td>1</td>\n",
       "      <td>female</td>\n",
       "      <td>3</td>\n",
       "      <td>0</td>\n",
       "      <td>26.000000</td>\n",
       "    </tr>\n",
       "    <tr>\n",
       "      <th>3</th>\n",
       "      <td>1</td>\n",
       "      <td>female</td>\n",
       "      <td>1</td>\n",
       "      <td>1</td>\n",
       "      <td>35.000000</td>\n",
       "    </tr>\n",
       "    <tr>\n",
       "      <th>4</th>\n",
       "      <td>0</td>\n",
       "      <td>male</td>\n",
       "      <td>3</td>\n",
       "      <td>0</td>\n",
       "      <td>35.000000</td>\n",
       "    </tr>\n",
       "    <tr>\n",
       "      <th>...</th>\n",
       "      <td>...</td>\n",
       "      <td>...</td>\n",
       "      <td>...</td>\n",
       "      <td>...</td>\n",
       "      <td>...</td>\n",
       "    </tr>\n",
       "    <tr>\n",
       "      <th>886</th>\n",
       "      <td>0</td>\n",
       "      <td>male</td>\n",
       "      <td>2</td>\n",
       "      <td>0</td>\n",
       "      <td>27.000000</td>\n",
       "    </tr>\n",
       "    <tr>\n",
       "      <th>887</th>\n",
       "      <td>1</td>\n",
       "      <td>female</td>\n",
       "      <td>1</td>\n",
       "      <td>0</td>\n",
       "      <td>19.000000</td>\n",
       "    </tr>\n",
       "    <tr>\n",
       "      <th>888</th>\n",
       "      <td>0</td>\n",
       "      <td>female</td>\n",
       "      <td>3</td>\n",
       "      <td>1</td>\n",
       "      <td>29.714286</td>\n",
       "    </tr>\n",
       "    <tr>\n",
       "      <th>889</th>\n",
       "      <td>1</td>\n",
       "      <td>male</td>\n",
       "      <td>1</td>\n",
       "      <td>0</td>\n",
       "      <td>26.000000</td>\n",
       "    </tr>\n",
       "    <tr>\n",
       "      <th>890</th>\n",
       "      <td>0</td>\n",
       "      <td>male</td>\n",
       "      <td>3</td>\n",
       "      <td>0</td>\n",
       "      <td>32.000000</td>\n",
       "    </tr>\n",
       "  </tbody>\n",
       "</table>\n",
       "<p>891 rows × 5 columns</p>\n",
       "</div>"
      ],
      "text/plain": [
       "     Survived     Sex  Pclass  SibSp        Age\n",
       "0           0    male       3      1  22.000000\n",
       "1           1  female       1      1  38.000000\n",
       "2           1  female       3      0  26.000000\n",
       "3           1  female       1      1  35.000000\n",
       "4           0    male       3      0  35.000000\n",
       "..        ...     ...     ...    ...        ...\n",
       "886         0    male       2      0  27.000000\n",
       "887         1  female       1      0  19.000000\n",
       "888         0  female       3      1  29.714286\n",
       "889         1    male       1      0  26.000000\n",
       "890         0    male       3      0  32.000000\n",
       "\n",
       "[891 rows x 5 columns]"
      ]
     },
     "execution_count": 26,
     "metadata": {},
     "output_type": "execute_result"
    }
   ],
   "source": [
    "df_list"
   ]
  },
  {
   "cell_type": "code",
   "execution_count": 27,
   "id": "5694b5c0",
   "metadata": {},
   "outputs": [
    {
     "data": {
      "text/plain": [
       "Survived    0\n",
       "Pclass      0\n",
       "Name        0\n",
       "Sex         0\n",
       "Age         0\n",
       "SibSp       0\n",
       "Parch       0\n",
       "Fare        0\n",
       "Embarked    0\n",
       "dtype: int64"
      ]
     },
     "execution_count": 27,
     "metadata": {},
     "output_type": "execute_result"
    }
   ],
   "source": [
    "df.isnull().sum()"
   ]
  },
  {
   "cell_type": "code",
   "execution_count": null,
   "id": "c17af504",
   "metadata": {},
   "outputs": [],
   "source": []
  },
  {
   "cell_type": "markdown",
   "id": "1545ebb4",
   "metadata": {},
   "source": [
    "#  <span style= \"color:#0373fc>\"> Problems Statements: </span>"
   ]
  },
  {
   "cell_type": "markdown",
   "id": "1eab2196",
   "metadata": {},
   "source": [
    "### 1) How many passengers survived and how many were killed (in number and %)"
   ]
  },
  {
   "cell_type": "code",
   "execution_count": 28,
   "id": "6a33425f",
   "metadata": {
    "scrolled": true
   },
   "outputs": [
    {
     "data": {
      "text/html": [
       "<div>\n",
       "<style scoped>\n",
       "    .dataframe tbody tr th:only-of-type {\n",
       "        vertical-align: middle;\n",
       "    }\n",
       "\n",
       "    .dataframe tbody tr th {\n",
       "        vertical-align: top;\n",
       "    }\n",
       "\n",
       "    .dataframe thead th {\n",
       "        text-align: right;\n",
       "    }\n",
       "</style>\n",
       "<table border=\"1\" class=\"dataframe\">\n",
       "  <thead>\n",
       "    <tr style=\"text-align: right;\">\n",
       "      <th></th>\n",
       "      <th>Sex</th>\n",
       "      <th>Survived</th>\n",
       "    </tr>\n",
       "  </thead>\n",
       "  <tbody>\n",
       "    <tr>\n",
       "      <th>0</th>\n",
       "      <td>female</td>\n",
       "      <td>0.742038</td>\n",
       "    </tr>\n",
       "    <tr>\n",
       "      <th>1</th>\n",
       "      <td>male</td>\n",
       "      <td>0.188908</td>\n",
       "    </tr>\n",
       "  </tbody>\n",
       "</table>\n",
       "</div>"
      ],
      "text/plain": [
       "      Sex  Survived\n",
       "0  female  0.742038\n",
       "1    male  0.188908"
      ]
     },
     "execution_count": 28,
     "metadata": {},
     "output_type": "execute_result"
    }
   ],
   "source": [
    "# Sex\n",
    "sex_survival = df[['Sex', 'Survived']].groupby('Sex', as_index=False).mean()\n",
    "sex_survival\n"
   ]
  },
  {
   "cell_type": "code",
   "execution_count": 29,
   "id": "e608b8d2",
   "metadata": {},
   "outputs": [
    {
     "name": "stdout",
     "output_type": "stream",
     "text": [
      "Total Survived:  342\n"
     ]
    }
   ],
   "source": [
    "total_survived= df.Survived.sum()\n",
    "print (f\"Total Survived:  {total_survived}\")\n"
   ]
  },
  {
   "cell_type": "code",
   "execution_count": 30,
   "id": "b4fd0d5e",
   "metadata": {},
   "outputs": [
    {
     "data": {
      "text/plain": [
       "38.38383838383838"
      ]
     },
     "execution_count": 30,
     "metadata": {},
     "output_type": "execute_result"
    }
   ],
   "source": [
    "total_khalaq=891\n",
    "total_survived=342\n",
    "in_percent=342/891*100\n",
    "in_percent"
   ]
  },
  {
   "cell_type": "code",
   "execution_count": 31,
   "id": "29f2709c",
   "metadata": {
    "scrolled": true
   },
   "outputs": [
    {
     "name": "stdout",
     "output_type": "stream",
     "text": [
      " Survived male:  109\n",
      " Dead male:  468\n",
      "**************************************************\n",
      " Survived Female :  233\n",
      " Dead Female:  81\n",
      "**************************************************\n",
      "Total Survived: 342\n",
      "Total Died: 549\n"
     ]
    }
   ],
   "source": [
    "survived_male=(df_list['Survived']==1) & (df_list.Sex=='male')\n",
    "s_male=survived_male.sum()\n",
    "dead_male=(df_list['Survived']==0) & (df_list.Sex=='male')\n",
    "d_male= dead_male.sum()\n",
    "\n",
    "print(f\" Survived male: \", s_male)\n",
    "print(f\" Dead male: \", d_male)\n",
    "\n",
    "print(\"*\" *50)\n",
    "\n",
    "survived_female=(df_list['Survived']==1) & (df_list.Sex=='female')\n",
    "s_female = survived_female.sum()\n",
    "dead_female=(df_list['Survived']==0) & (df_list.Sex=='female')\n",
    "d_female = dead_female.sum()\n",
    "\n",
    "print(f\" Survived Female : \", s_female)\n",
    "print(f\" Dead Female: \", d_female)\n",
    "\n",
    "print(\"*\" *50)\n",
    "\n",
    "total_survived2=s_male+s_female\n",
    "total_died2=d_male+ d_female\n",
    "\n",
    "print(f\"Total Survived: {total_survived2}\")\n",
    "print(f\"Total Died: {total_died2}\")"
   ]
  },
  {
   "cell_type": "markdown",
   "id": "35a27bdf",
   "metadata": {},
   "source": [
    "## Total Survived and killed Passengers :"
   ]
  },
  {
   "cell_type": "code",
   "execution_count": 38,
   "id": "c96a61d0",
   "metadata": {},
   "outputs": [
    {
     "data": {
      "text/html": [
       "<div>\n",
       "<style scoped>\n",
       "    .dataframe tbody tr th:only-of-type {\n",
       "        vertical-align: middle;\n",
       "    }\n",
       "\n",
       "    .dataframe tbody tr th {\n",
       "        vertical-align: top;\n",
       "    }\n",
       "\n",
       "    .dataframe thead th {\n",
       "        text-align: right;\n",
       "    }\n",
       "</style>\n",
       "<table border=\"1\" class=\"dataframe\">\n",
       "  <thead>\n",
       "    <tr style=\"text-align: right;\">\n",
       "      <th></th>\n",
       "      <th>Passenger</th>\n",
       "      <th>Total Survived</th>\n",
       "      <th>Total Deaths</th>\n",
       "    </tr>\n",
       "  </thead>\n",
       "  <tbody>\n",
       "    <tr>\n",
       "      <th>1</th>\n",
       "      <td>Male</td>\n",
       "      <td>109</td>\n",
       "      <td>468</td>\n",
       "    </tr>\n",
       "    <tr>\n",
       "      <th>2</th>\n",
       "      <td>Female</td>\n",
       "      <td>233</td>\n",
       "      <td>81</td>\n",
       "    </tr>\n",
       "  </tbody>\n",
       "</table>\n",
       "</div>"
      ],
      "text/plain": [
       "  Passenger  Total Survived  Total Deaths\n",
       "1      Male             109           468\n",
       "2    Female             233            81"
      ]
     },
     "execution_count": 38,
     "metadata": {},
     "output_type": "execute_result"
    }
   ],
   "source": [
    "# Making DataFrame of the above data\n",
    "data= { \"Passenger\": [\"Male\", \"Female\"], \"Total Survived\":[s_male,s_female ], \"Total Deaths\": [d_male,d_female ]}\n",
    "index= [1,2]\n",
    "dff22=pd.DataFrame(data,index)\n",
    "dff22"
   ]
  },
  {
   "cell_type": "markdown",
   "id": "4ce15ef3",
   "metadata": {},
   "source": [
    "## Passengers survived and how many were killed in Percentage %"
   ]
  },
  {
   "cell_type": "code",
   "execution_count": 33,
   "id": "a8a43f0e",
   "metadata": {},
   "outputs": [
    {
     "name": "stdout",
     "output_type": "stream",
     "text": [
      "Total Survived Male: 32.0 %\n",
      "Total Dead Male: 53.0 %\n",
      "Total Survived female: 69.0 %\n",
      "Total Dead female: 10.0 %\n"
     ]
    }
   ],
   "source": [
    "#Finding the percentage of survived and dead passengers\n",
    "\n",
    "\n",
    "perc1=s_male /total_survived*100\n",
    "perc1\n",
    "p1= np.ceil(perc1)\n",
    "print(f\"Total Survived Male: {p1} %\" )\n",
    "\n",
    "perc2=d_male /total_khalaq*100\n",
    "perc2\n",
    "p2= np.ceil(perc2)\n",
    "print(f\"Total Dead Male: {p2} %\" )\n",
    "\n",
    "\n",
    "perc3=s_female /total_survived*100\n",
    "perc3\n",
    "p3= np.ceil(perc3)\n",
    "print(f\"Total Survived female: {p3} %\" )\n",
    "perc4=d_female /total_khalaq*100\n",
    "perc4\n",
    "p4= np.ceil(perc4)\n",
    "print(f\"Total Dead female: {p4} %\" )\n",
    "\n"
   ]
  },
  {
   "cell_type": "markdown",
   "id": "f936dda4",
   "metadata": {},
   "source": [
    "#### DataFrame:"
   ]
  },
  {
   "cell_type": "code",
   "execution_count": 89,
   "id": "468728ab",
   "metadata": {
    "scrolled": true
   },
   "outputs": [
    {
     "data": {
      "text/html": [
       "<div>\n",
       "<style scoped>\n",
       "    .dataframe tbody tr th:only-of-type {\n",
       "        vertical-align: middle;\n",
       "    }\n",
       "\n",
       "    .dataframe tbody tr th {\n",
       "        vertical-align: top;\n",
       "    }\n",
       "\n",
       "    .dataframe thead th {\n",
       "        text-align: right;\n",
       "    }\n",
       "</style>\n",
       "<table border=\"1\" class=\"dataframe\">\n",
       "  <thead>\n",
       "    <tr style=\"text-align: right;\">\n",
       "      <th></th>\n",
       "      <th>Passenger</th>\n",
       "      <th>Total Survived</th>\n",
       "      <th>Percentage %</th>\n",
       "    </tr>\n",
       "  </thead>\n",
       "  <tbody>\n",
       "    <tr>\n",
       "      <th>1</th>\n",
       "      <td>Survived Male</td>\n",
       "      <td>109</td>\n",
       "      <td>32.0</td>\n",
       "    </tr>\n",
       "    <tr>\n",
       "      <th>2</th>\n",
       "      <td>Dead Male</td>\n",
       "      <td>468</td>\n",
       "      <td>53.0</td>\n",
       "    </tr>\n",
       "    <tr>\n",
       "      <th>3</th>\n",
       "      <td>Survived Female</td>\n",
       "      <td>233</td>\n",
       "      <td>69.0</td>\n",
       "    </tr>\n",
       "    <tr>\n",
       "      <th>4</th>\n",
       "      <td>Dead Female</td>\n",
       "      <td>81</td>\n",
       "      <td>10.0</td>\n",
       "    </tr>\n",
       "  </tbody>\n",
       "</table>\n",
       "</div>"
      ],
      "text/plain": [
       "         Passenger  Total Survived  Percentage %\n",
       "1    Survived Male             109          32.0\n",
       "2        Dead Male             468          53.0\n",
       "3  Survived Female             233          69.0\n",
       "4      Dead Female              81          10.0"
      ]
     },
     "execution_count": 89,
     "metadata": {},
     "output_type": "execute_result"
    }
   ],
   "source": [
    "data= { \"Passenger\": [\"Survived Male\", \"Dead Male\",\"Survived Female\", \"Dead Female\" ], \"Total Survived\": [s_male,d_male,s_female,d_female], \"Percentage %\": [p1,p2,p3,p4]}\n",
    "index= [1,2,3,4]\n",
    "dff22=pd.DataFrame(data,index)\n",
    "dff22\n",
    " "
   ]
  },
  {
   "cell_type": "code",
   "execution_count": null,
   "id": "084638cc",
   "metadata": {},
   "outputs": [],
   "source": []
  },
  {
   "cell_type": "markdown",
   "id": "7376308f",
   "metadata": {},
   "source": [
    "## 2) does survival had anything to do with the gender? (Survival vs Gender)"
   ]
  },
  {
   "cell_type": "code",
   "execution_count": 65,
   "id": "982f146c",
   "metadata": {
    "scrolled": false
   },
   "outputs": [
    {
     "data": {
      "text/html": [
       "<div>\n",
       "<style scoped>\n",
       "    .dataframe tbody tr th:only-of-type {\n",
       "        vertical-align: middle;\n",
       "    }\n",
       "\n",
       "    .dataframe tbody tr th {\n",
       "        vertical-align: top;\n",
       "    }\n",
       "\n",
       "    .dataframe thead th {\n",
       "        text-align: right;\n",
       "    }\n",
       "</style>\n",
       "<table border=\"1\" class=\"dataframe\">\n",
       "  <thead>\n",
       "    <tr style=\"text-align: right;\">\n",
       "      <th></th>\n",
       "      <th>Passenger</th>\n",
       "      <th>Total Survived</th>\n",
       "      <th>Percentage %</th>\n",
       "    </tr>\n",
       "  </thead>\n",
       "  <tbody>\n",
       "    <tr>\n",
       "      <th>1</th>\n",
       "      <td>Survived Male</td>\n",
       "      <td>109</td>\n",
       "      <td>32.0</td>\n",
       "    </tr>\n",
       "    <tr>\n",
       "      <th>2</th>\n",
       "      <td>Dead Male</td>\n",
       "      <td>468</td>\n",
       "      <td>53.0</td>\n",
       "    </tr>\n",
       "    <tr>\n",
       "      <th>3</th>\n",
       "      <td>Survived Female</td>\n",
       "      <td>233</td>\n",
       "      <td>69.0</td>\n",
       "    </tr>\n",
       "    <tr>\n",
       "      <th>4</th>\n",
       "      <td>Dead Female</td>\n",
       "      <td>81</td>\n",
       "      <td>10.0</td>\n",
       "    </tr>\n",
       "  </tbody>\n",
       "</table>\n",
       "</div>"
      ],
      "text/plain": [
       "         Passenger  Total Survived  Percentage %\n",
       "1    Survived Male             109          32.0\n",
       "2        Dead Male             468          53.0\n",
       "3  Survived Female             233          69.0\n",
       "4      Dead Female              81          10.0"
      ]
     },
     "execution_count": 65,
     "metadata": {},
     "output_type": "execute_result"
    }
   ],
   "source": [
    "data= { \"Passenger\": [\"Survived Male\", \"Dead Male\",\"Survived Female\", \"Dead Female\" ], \"Total Survived\": [s_male,d_male,s_female,d_female], \"Percentage %\": [p1,p2,p3,p4]}\n",
    "index= [1,2,3,4]\n",
    "dff22=pd.DataFrame(data,index)\n",
    "dff22"
   ]
  },
  {
   "cell_type": "markdown",
   "id": "9bbae22a",
   "metadata": {},
   "source": [
    "#### Yes, from the above analysis it can be concluded that Survival rate of female are greater than male"
   ]
  },
  {
   "cell_type": "markdown",
   "id": "08eb4f85",
   "metadata": {},
   "source": [
    "### Final Comparison for Survival rate and Death rate:\n",
    "\n",
    "#### The survival rate of female is high as compared to male passengers"
   ]
  },
  {
   "cell_type": "code",
   "execution_count": null,
   "id": "abb22329",
   "metadata": {},
   "outputs": [],
   "source": []
  },
  {
   "cell_type": "markdown",
   "id": "38b4c26a",
   "metadata": {},
   "source": [
    "# 3) Does survival have anything to do with the class in which the passenger was traveling and who survived more 1st class passengers, 2nd class passengers or 3rd class passengers?\n"
   ]
  },
  {
   "cell_type": "markdown",
   "id": "cb2675e8",
   "metadata": {},
   "source": [
    "# Pclass"
   ]
  },
  {
   "cell_type": "code",
   "execution_count": 77,
   "id": "2a25fa3c",
   "metadata": {},
   "outputs": [
    {
     "name": "stdout",
     "output_type": "stream",
     "text": [
      "Survival in class 1: 136\n",
      "Death in class 1:  80\n",
      "**************************************************\n",
      "Survival in class 2: 87\n",
      "Death in class 2: 97\n",
      "**************************************************\n",
      "Survival in class 3: 119 \n",
      "Death in class 2:  372\n"
     ]
    }
   ],
   "source": [
    "survival_in_Class1 = (df_list['Survived']==1) & (df_list['Pclass']==1)\n",
    "sc1 = survival_in_Class1.sum()\n",
    "print(f\"Survival in class 1: {sc1}\"  )\n",
    "dead_in_Class1 = (df_list['Survived']==0) & (df_list['Pclass']==1)\n",
    "dc1= dead_in_Class1.sum()\n",
    "print(f\"Death in class 1:  {dc1}\" )\n",
    "\n",
    "print(\"*\" *50)\n",
    "\n",
    "survival_in_Class2=(df_list['Survived']==1) & (df_list['Pclass']==2)\n",
    "sc2 = survival_in_Class2.sum()\n",
    "print(f\"Survival in class 2: {sc2}\" )\n",
    "dead_in_Class2=(df_list['Survived']==0) & (df_list['Pclass']==2)\n",
    "dc2 = dead_in_Class2.sum()\n",
    "print(f\"Death in class 2: {dc2}\" )\n",
    "\n",
    "print(\"*\" *50)\n",
    "\n",
    "survival_in_Class3=(df_list['Survived']==1) & (df_list['Pclass']==3)\n",
    "sc3 = survival_in_Class3.sum()\n",
    "print( f\"Survival in class 3: {sc3} \" )\n",
    "\n",
    "dead_in_Class3=(df_list['Survived']==0) & (df_list['Pclass']==3)\n",
    "dc3 = dead_in_Class3.sum()\n",
    "print (f\"Death in class 2:  {dc3}\" )"
   ]
  },
  {
   "cell_type": "code",
   "execution_count": null,
   "id": "4c5a3e57",
   "metadata": {},
   "outputs": [],
   "source": []
  },
  {
   "cell_type": "markdown",
   "id": "59ea8885",
   "metadata": {},
   "source": [
    "## Pclass 1 Passengers survived the most"
   ]
  },
  {
   "cell_type": "code",
   "execution_count": 78,
   "id": "f8dd8c70",
   "metadata": {},
   "outputs": [
    {
     "data": {
      "text/html": [
       "<div>\n",
       "<style scoped>\n",
       "    .dataframe tbody tr th:only-of-type {\n",
       "        vertical-align: middle;\n",
       "    }\n",
       "\n",
       "    .dataframe tbody tr th {\n",
       "        vertical-align: top;\n",
       "    }\n",
       "\n",
       "    .dataframe thead th {\n",
       "        text-align: right;\n",
       "    }\n",
       "</style>\n",
       "<table border=\"1\" class=\"dataframe\">\n",
       "  <thead>\n",
       "    <tr style=\"text-align: right;\">\n",
       "      <th></th>\n",
       "      <th>Pclass</th>\n",
       "      <th>Survived</th>\n",
       "      <th>Dead</th>\n",
       "    </tr>\n",
       "  </thead>\n",
       "  <tbody>\n",
       "    <tr>\n",
       "      <th>1</th>\n",
       "      <td>Class 1</td>\n",
       "      <td>136</td>\n",
       "      <td>80</td>\n",
       "    </tr>\n",
       "    <tr>\n",
       "      <th>2</th>\n",
       "      <td>Class 2</td>\n",
       "      <td>87</td>\n",
       "      <td>97</td>\n",
       "    </tr>\n",
       "    <tr>\n",
       "      <th>3</th>\n",
       "      <td>class 3</td>\n",
       "      <td>119</td>\n",
       "      <td>372</td>\n",
       "    </tr>\n",
       "  </tbody>\n",
       "</table>\n",
       "</div>"
      ],
      "text/plain": [
       "    Pclass  Survived  Dead\n",
       "1  Class 1       136    80\n",
       "2  Class 2        87    97\n",
       "3  class 3       119   372"
      ]
     },
     "execution_count": 78,
     "metadata": {},
     "output_type": "execute_result"
    }
   ],
   "source": [
    "data2= { \"Pclass\": [\"Class 1\",\"Class 2\",  \"class 3\" ], \"Survived\":[sc1, sc2, sc3], \"Dead\": [dc1,dc2,dc3 ]}\n",
    "index= [1,2,3]\n",
    "dff222=pd.DataFrame(data2,index)\n",
    "dff222"
   ]
  },
  {
   "cell_type": "code",
   "execution_count": null,
   "id": "9d795525",
   "metadata": {},
   "outputs": [],
   "source": []
  },
  {
   "cell_type": "code",
   "execution_count": null,
   "id": "330098fb",
   "metadata": {},
   "outputs": [],
   "source": []
  },
  {
   "cell_type": "markdown",
   "id": "08ff8c40",
   "metadata": {},
   "source": [
    "## 4) Which age group, survived the most, kids (0-12), teen agers (13-19), youngsters (20-30), middle age people (31-50) or elders (50 and) greater) ?"
   ]
  },
  {
   "cell_type": "markdown",
   "id": "ad4bcb03",
   "metadata": {},
   "source": [
    "### From  below analysis it is clear that the survival rate of youngsters are high"
   ]
  },
  {
   "cell_type": "code",
   "execution_count": 81,
   "id": "923407cb",
   "metadata": {},
   "outputs": [
    {
     "name": "stdout",
     "output_type": "stream",
     "text": [
      "Total kids survived :  39\n",
      "**************************************************\n",
      "Total Teen agers survived : 28 \n",
      "**************************************************\n",
      "Total Survived Youngsters are:  74\n",
      "**************************************************\n",
      "Total Survived Middle age people are:  89\n",
      "**************************************************\n",
      "Total Survived elder age people are:  22\n",
      "**************************************************\n"
     ]
    }
   ],
   "source": [
    "kid_m1 = (df.Survived == 1)  & (df.Sex == \"male\") & (df.Age <12)\n",
    "kid_f1 = (df.Survived == 1)   & (df.Sex == \"female\") & (df.Age <12)\n",
    "km1= kid_m1.sum()\n",
    "kf2 = kid_f1.sum()\n",
    "kids = km1 + kf2\n",
    "\n",
    "print(f\"Total kids survived :  {kids}\" )\n",
    "\n",
    "print(\"*\" *50)\n",
    "teen_m2 = (df.Survived == 1) &  (df.Sex == \"male\") & (df.Age < 19) & (df.Age > 13)\n",
    "teen_f2= (df.Survived == 1) &  (df.Sex == \"female\") & (df.Age < 19) & (df.Age > 13)\n",
    "tm2= teen_m2.sum()\n",
    "tf2 = teen_f2.sum()\n",
    "teen_agers = tm2 + tf2\n",
    " \n",
    "print(f\"Total Teen agers survived : {teen_agers} \")\n",
    "\n",
    "print(\"*\" *50)\n",
    "\n",
    "young_m3 = (df.Survived == 1) &   (df.Sex == \"male\")& (df.Age < 30) & (df.Age > 20)\n",
    "young_f3 = (df.Survived == 1)  & (df.Sex == \"female\")& (df.Age <30) & (df.Age > 20)\n",
    "ym = young_m3.sum()\n",
    "yf = young_f3.sum()\n",
    "youngsters = ym + yf\n",
    " \n",
    "print(f\"Total Survived Youngsters are:  {youngsters}\")\n",
    "\n",
    "print(\"*\" *50)\n",
    "\n",
    "mid_m4 = (df.Survived == 1) &   (df.Sex == \"male\")& (df.Age < 50) & (df.Age > 31)\n",
    "mid_f4 = (df.Survived == 1)  & (df.Sex == \"female\")& (df.Age <50) & (df.Age > 31)\n",
    "mm4 = mid_m4.sum()\n",
    "mf4 = mid_f4.sum()\n",
    "mid_age = mm4 + mf4\n",
    " \n",
    "print(f\"Total Survived Middle age people are:  {mid_age}\")\n",
    "\n",
    "print(\"*\" *50)\n",
    "\n",
    "eld_m5 = (df.Survived == 1) &   (df.Sex == \"male\")&  (df.Age > 50)\n",
    "eld_f5 = (df.Survived == 1)  & (df.Sex == \"female\")&  (df.Age > 50)\n",
    "em5 = eld_m5.sum()\n",
    "ef5 = eld_f5.sum()\n",
    "elder_age = em5 + ef5\n",
    " \n",
    "print(f\"Total Survived elder age people are:  {elder_age}\")\n",
    "\n",
    "print(\"*\" *50)\n",
    "\n",
    " "
   ]
  },
  {
   "cell_type": "code",
   "execution_count": 82,
   "id": "0117f3c6",
   "metadata": {},
   "outputs": [
    {
     "data": {
      "text/html": [
       "<div>\n",
       "<style scoped>\n",
       "    .dataframe tbody tr th:only-of-type {\n",
       "        vertical-align: middle;\n",
       "    }\n",
       "\n",
       "    .dataframe tbody tr th {\n",
       "        vertical-align: top;\n",
       "    }\n",
       "\n",
       "    .dataframe thead th {\n",
       "        text-align: right;\n",
       "    }\n",
       "</style>\n",
       "<table border=\"1\" class=\"dataframe\">\n",
       "  <thead>\n",
       "    <tr style=\"text-align: right;\">\n",
       "      <th></th>\n",
       "      <th>AgeGroup</th>\n",
       "      <th>Survival rate</th>\n",
       "    </tr>\n",
       "  </thead>\n",
       "  <tbody>\n",
       "    <tr>\n",
       "      <th>1</th>\n",
       "      <td>kids</td>\n",
       "      <td>39</td>\n",
       "    </tr>\n",
       "    <tr>\n",
       "      <th>2</th>\n",
       "      <td>Teen agers</td>\n",
       "      <td>28</td>\n",
       "    </tr>\n",
       "    <tr>\n",
       "      <th>3</th>\n",
       "      <td>Youngsters</td>\n",
       "      <td>74</td>\n",
       "    </tr>\n",
       "    <tr>\n",
       "      <th>4</th>\n",
       "      <td>Middle Age</td>\n",
       "      <td>89</td>\n",
       "    </tr>\n",
       "    <tr>\n",
       "      <th>5</th>\n",
       "      <td>Elders</td>\n",
       "      <td>22</td>\n",
       "    </tr>\n",
       "  </tbody>\n",
       "</table>\n",
       "</div>"
      ],
      "text/plain": [
       "      AgeGroup  Survival rate\n",
       "1         kids             39\n",
       "2   Teen agers             28\n",
       "3   Youngsters             74\n",
       "4   Middle Age             89\n",
       "5       Elders             22"
      ]
     },
     "execution_count": 82,
     "metadata": {},
     "output_type": "execute_result"
    }
   ],
   "source": [
    "data44= { \"AgeGroup\": [\"kids\" , \"Teen agers\", \" Youngsters\", \"Middle Age\", \"Elders\"], \"Survival rate\": [ kids, teen_agers, youngsters,mid_age, elder_age]}\n",
    "index= [1,2,3,4,5]\n",
    "\n",
    "dff44= pd.DataFrame(data44,index)\n",
    "dff44"
   ]
  },
  {
   "cell_type": "markdown",
   "id": "902eb271",
   "metadata": {},
   "source": [
    " ### The results from the age group analysis show little Youngsters (20-30 years) had the highest chance of survival from all the groups. The lowest survival rate were observed for elder passengers"
   ]
  },
  {
   "cell_type": "code",
   "execution_count": null,
   "id": "eff0c3ae",
   "metadata": {},
   "outputs": [],
   "source": []
  },
  {
   "cell_type": "markdown",
   "id": "8420180b",
   "metadata": {},
   "source": [
    "## 5) Which people survived the most, either those who were traveling with the family or those who were traveling alone?"
   ]
  },
  {
   "cell_type": "code",
   "execution_count": 85,
   "id": "94ae1262",
   "metadata": {},
   "outputs": [
    {
     "data": {
      "text/html": [
       "<div>\n",
       "<style scoped>\n",
       "    .dataframe tbody tr th:only-of-type {\n",
       "        vertical-align: middle;\n",
       "    }\n",
       "\n",
       "    .dataframe tbody tr th {\n",
       "        vertical-align: top;\n",
       "    }\n",
       "\n",
       "    .dataframe thead th {\n",
       "        text-align: right;\n",
       "    }\n",
       "</style>\n",
       "<table border=\"1\" class=\"dataframe\">\n",
       "  <thead>\n",
       "    <tr style=\"text-align: right;\">\n",
       "      <th></th>\n",
       "      <th>Survived</th>\n",
       "    </tr>\n",
       "    <tr>\n",
       "      <th>SibSp</th>\n",
       "      <th></th>\n",
       "    </tr>\n",
       "  </thead>\n",
       "  <tbody>\n",
       "    <tr>\n",
       "      <th>0</th>\n",
       "      <td>0.345395</td>\n",
       "    </tr>\n",
       "    <tr>\n",
       "      <th>1</th>\n",
       "      <td>0.535885</td>\n",
       "    </tr>\n",
       "    <tr>\n",
       "      <th>2</th>\n",
       "      <td>0.464286</td>\n",
       "    </tr>\n",
       "    <tr>\n",
       "      <th>3</th>\n",
       "      <td>0.250000</td>\n",
       "    </tr>\n",
       "    <tr>\n",
       "      <th>4</th>\n",
       "      <td>0.166667</td>\n",
       "    </tr>\n",
       "    <tr>\n",
       "      <th>5</th>\n",
       "      <td>0.000000</td>\n",
       "    </tr>\n",
       "    <tr>\n",
       "      <th>8</th>\n",
       "      <td>0.000000</td>\n",
       "    </tr>\n",
       "  </tbody>\n",
       "</table>\n",
       "</div>"
      ],
      "text/plain": [
       "       Survived\n",
       "SibSp          \n",
       "0      0.345395\n",
       "1      0.535885\n",
       "2      0.464286\n",
       "3      0.250000\n",
       "4      0.166667\n",
       "5      0.000000\n",
       "8      0.000000"
      ]
     },
     "execution_count": 85,
     "metadata": {},
     "output_type": "execute_result"
    }
   ],
   "source": [
    "# calculate the survival rates for the different family sizes\n",
    "fam_survival = df[['SibSp', 'Survived']].groupby('SibSp').mean()\n",
    "\n",
    "fam_survival"
   ]
  },
  {
   "cell_type": "markdown",
   "id": "a64e3eea",
   "metadata": {},
   "source": [
    "### It seems like family size also influenced survival rates. Survival rates increase up to family sizes of 4 people and then fall significantly for larger families."
   ]
  },
  {
   "cell_type": "code",
   "execution_count": null,
   "id": "45a701f3",
   "metadata": {},
   "outputs": [],
   "source": []
  },
  {
   "cell_type": "markdown",
   "id": "24887c7d",
   "metadata": {},
   "source": [
    "## 6) Finally compare the survival rate vs gender, class, age group, and family"
   ]
  },
  {
   "cell_type": "code",
   "execution_count": 91,
   "id": "246697bd",
   "metadata": {},
   "outputs": [
    {
     "data": {
      "text/html": [
       "<div>\n",
       "<style scoped>\n",
       "    .dataframe tbody tr th:only-of-type {\n",
       "        vertical-align: middle;\n",
       "    }\n",
       "\n",
       "    .dataframe tbody tr th {\n",
       "        vertical-align: top;\n",
       "    }\n",
       "\n",
       "    .dataframe thead th {\n",
       "        text-align: right;\n",
       "    }\n",
       "</style>\n",
       "<table border=\"1\" class=\"dataframe\">\n",
       "  <thead>\n",
       "    <tr style=\"text-align: right;\">\n",
       "      <th></th>\n",
       "      <th>Passenger</th>\n",
       "      <th>Total Survived</th>\n",
       "      <th>Percentage %</th>\n",
       "    </tr>\n",
       "  </thead>\n",
       "  <tbody>\n",
       "    <tr>\n",
       "      <th>1</th>\n",
       "      <td>Survived Male</td>\n",
       "      <td>109</td>\n",
       "      <td>32.0</td>\n",
       "    </tr>\n",
       "    <tr>\n",
       "      <th>2</th>\n",
       "      <td>Dead Male</td>\n",
       "      <td>468</td>\n",
       "      <td>53.0</td>\n",
       "    </tr>\n",
       "    <tr>\n",
       "      <th>3</th>\n",
       "      <td>Survived Female</td>\n",
       "      <td>233</td>\n",
       "      <td>69.0</td>\n",
       "    </tr>\n",
       "    <tr>\n",
       "      <th>4</th>\n",
       "      <td>Dead Female</td>\n",
       "      <td>81</td>\n",
       "      <td>10.0</td>\n",
       "    </tr>\n",
       "  </tbody>\n",
       "</table>\n",
       "</div>"
      ],
      "text/plain": [
       "         Passenger  Total Survived  Percentage %\n",
       "1    Survived Male             109          32.0\n",
       "2        Dead Male             468          53.0\n",
       "3  Survived Female             233          69.0\n",
       "4      Dead Female              81          10.0"
      ]
     },
     "execution_count": 91,
     "metadata": {},
     "output_type": "execute_result"
    }
   ],
   "source": [
    "#Survival Rate Vs Gender\n",
    "dff22"
   ]
  },
  {
   "cell_type": "code",
   "execution_count": 79,
   "id": "ab6be5a0",
   "metadata": {},
   "outputs": [
    {
     "data": {
      "text/html": [
       "<div>\n",
       "<style scoped>\n",
       "    .dataframe tbody tr th:only-of-type {\n",
       "        vertical-align: middle;\n",
       "    }\n",
       "\n",
       "    .dataframe tbody tr th {\n",
       "        vertical-align: top;\n",
       "    }\n",
       "\n",
       "    .dataframe thead th {\n",
       "        text-align: right;\n",
       "    }\n",
       "</style>\n",
       "<table border=\"1\" class=\"dataframe\">\n",
       "  <thead>\n",
       "    <tr style=\"text-align: right;\">\n",
       "      <th></th>\n",
       "      <th>Pclass</th>\n",
       "      <th>Survived</th>\n",
       "      <th>Dead</th>\n",
       "    </tr>\n",
       "  </thead>\n",
       "  <tbody>\n",
       "    <tr>\n",
       "      <th>1</th>\n",
       "      <td>Class 1</td>\n",
       "      <td>136</td>\n",
       "      <td>80</td>\n",
       "    </tr>\n",
       "    <tr>\n",
       "      <th>2</th>\n",
       "      <td>Class 2</td>\n",
       "      <td>87</td>\n",
       "      <td>97</td>\n",
       "    </tr>\n",
       "    <tr>\n",
       "      <th>3</th>\n",
       "      <td>class 3</td>\n",
       "      <td>119</td>\n",
       "      <td>372</td>\n",
       "    </tr>\n",
       "  </tbody>\n",
       "</table>\n",
       "</div>"
      ],
      "text/plain": [
       "    Pclass  Survived  Dead\n",
       "1  Class 1       136    80\n",
       "2  Class 2        87    97\n",
       "3  class 3       119   372"
      ]
     },
     "execution_count": 79,
     "metadata": {},
     "output_type": "execute_result"
    }
   ],
   "source": [
    "# Survival Rate Vs Class\n",
    "dff222"
   ]
  },
  {
   "cell_type": "code",
   "execution_count": 83,
   "id": "b83b22c5",
   "metadata": {
    "scrolled": true
   },
   "outputs": [
    {
     "data": {
      "text/html": [
       "<div>\n",
       "<style scoped>\n",
       "    .dataframe tbody tr th:only-of-type {\n",
       "        vertical-align: middle;\n",
       "    }\n",
       "\n",
       "    .dataframe tbody tr th {\n",
       "        vertical-align: top;\n",
       "    }\n",
       "\n",
       "    .dataframe thead th {\n",
       "        text-align: right;\n",
       "    }\n",
       "</style>\n",
       "<table border=\"1\" class=\"dataframe\">\n",
       "  <thead>\n",
       "    <tr style=\"text-align: right;\">\n",
       "      <th></th>\n",
       "      <th>AgeGroup</th>\n",
       "      <th>Survival rate</th>\n",
       "    </tr>\n",
       "  </thead>\n",
       "  <tbody>\n",
       "    <tr>\n",
       "      <th>1</th>\n",
       "      <td>kids</td>\n",
       "      <td>39</td>\n",
       "    </tr>\n",
       "    <tr>\n",
       "      <th>2</th>\n",
       "      <td>Teen agers</td>\n",
       "      <td>28</td>\n",
       "    </tr>\n",
       "    <tr>\n",
       "      <th>3</th>\n",
       "      <td>Youngsters</td>\n",
       "      <td>74</td>\n",
       "    </tr>\n",
       "    <tr>\n",
       "      <th>4</th>\n",
       "      <td>Middle Age</td>\n",
       "      <td>89</td>\n",
       "    </tr>\n",
       "    <tr>\n",
       "      <th>5</th>\n",
       "      <td>Elders</td>\n",
       "      <td>22</td>\n",
       "    </tr>\n",
       "  </tbody>\n",
       "</table>\n",
       "</div>"
      ],
      "text/plain": [
       "      AgeGroup  Survival rate\n",
       "1         kids             39\n",
       "2   Teen agers             28\n",
       "3   Youngsters             74\n",
       "4   Middle Age             89\n",
       "5       Elders             22"
      ]
     },
     "execution_count": 83,
     "metadata": {},
     "output_type": "execute_result"
    }
   ],
   "source": [
    "# Survival Rate Vs Age group\n",
    "dff44"
   ]
  },
  {
   "cell_type": "code",
   "execution_count": 86,
   "id": "3fb2a881",
   "metadata": {
    "scrolled": true
   },
   "outputs": [
    {
     "data": {
      "text/html": [
       "<div>\n",
       "<style scoped>\n",
       "    .dataframe tbody tr th:only-of-type {\n",
       "        vertical-align: middle;\n",
       "    }\n",
       "\n",
       "    .dataframe tbody tr th {\n",
       "        vertical-align: top;\n",
       "    }\n",
       "\n",
       "    .dataframe thead th {\n",
       "        text-align: right;\n",
       "    }\n",
       "</style>\n",
       "<table border=\"1\" class=\"dataframe\">\n",
       "  <thead>\n",
       "    <tr style=\"text-align: right;\">\n",
       "      <th></th>\n",
       "      <th>Survived</th>\n",
       "    </tr>\n",
       "    <tr>\n",
       "      <th>SibSp</th>\n",
       "      <th></th>\n",
       "    </tr>\n",
       "  </thead>\n",
       "  <tbody>\n",
       "    <tr>\n",
       "      <th>0</th>\n",
       "      <td>0.345395</td>\n",
       "    </tr>\n",
       "    <tr>\n",
       "      <th>1</th>\n",
       "      <td>0.535885</td>\n",
       "    </tr>\n",
       "    <tr>\n",
       "      <th>2</th>\n",
       "      <td>0.464286</td>\n",
       "    </tr>\n",
       "    <tr>\n",
       "      <th>3</th>\n",
       "      <td>0.250000</td>\n",
       "    </tr>\n",
       "    <tr>\n",
       "      <th>4</th>\n",
       "      <td>0.166667</td>\n",
       "    </tr>\n",
       "    <tr>\n",
       "      <th>5</th>\n",
       "      <td>0.000000</td>\n",
       "    </tr>\n",
       "    <tr>\n",
       "      <th>8</th>\n",
       "      <td>0.000000</td>\n",
       "    </tr>\n",
       "  </tbody>\n",
       "</table>\n",
       "</div>"
      ],
      "text/plain": [
       "       Survived\n",
       "SibSp          \n",
       "0      0.345395\n",
       "1      0.535885\n",
       "2      0.464286\n",
       "3      0.250000\n",
       "4      0.166667\n",
       "5      0.000000\n",
       "8      0.000000"
      ]
     },
     "execution_count": 86,
     "metadata": {},
     "output_type": "execute_result"
    }
   ],
   "source": [
    "#Survival rate vs Family\n",
    "fam_survival"
   ]
  },
  {
   "cell_type": "markdown",
   "id": "222af997",
   "metadata": {},
   "source": [
    "# <span style= \"color:#0373fc>\"> Conclusions </span>"
   ]
  },
  {
   "cell_type": "code",
   "execution_count": 51,
   "id": "be2f29aa",
   "metadata": {
    "scrolled": true
   },
   "outputs": [
    {
     "data": {
      "text/html": [
       "<div>\n",
       "<style scoped>\n",
       "    .dataframe tbody tr th:only-of-type {\n",
       "        vertical-align: middle;\n",
       "    }\n",
       "\n",
       "    .dataframe tbody tr th {\n",
       "        vertical-align: top;\n",
       "    }\n",
       "\n",
       "    .dataframe thead th {\n",
       "        text-align: right;\n",
       "    }\n",
       "</style>\n",
       "<table border=\"1\" class=\"dataframe\">\n",
       "  <thead>\n",
       "    <tr style=\"text-align: right;\">\n",
       "      <th></th>\n",
       "      <th>Survival Rate</th>\n",
       "      <th>Gender</th>\n",
       "      <th>Pclass</th>\n",
       "      <th>Age Group</th>\n",
       "      <th>Family</th>\n",
       "    </tr>\n",
       "  </thead>\n",
       "  <tbody>\n",
       "    <tr>\n",
       "      <th>1</th>\n",
       "      <td>High</td>\n",
       "      <td>Female</td>\n",
       "      <td>Class 1</td>\n",
       "      <td>Younsters</td>\n",
       "      <td>4</td>\n",
       "    </tr>\n",
       "    <tr>\n",
       "      <th>2</th>\n",
       "      <td>Low</td>\n",
       "      <td>Male</td>\n",
       "      <td>Class 2</td>\n",
       "      <td>Elders</td>\n",
       "      <td>More Than 4</td>\n",
       "    </tr>\n",
       "  </tbody>\n",
       "</table>\n",
       "</div>"
      ],
      "text/plain": [
       "  Survival Rate  Gender   Pclass  Age Group       Family\n",
       "1          High  Female  Class 1  Younsters            4\n",
       "2           Low    Male  Class 2     Elders  More Than 4"
      ]
     },
     "execution_count": 51,
     "metadata": {},
     "output_type": "execute_result"
    }
   ],
   "source": [
    "data66= { \"Survival Rate\": [\"High\", \"Low\" ], \"Gender\": [\"Female\", \"Male\"], \"Pclass\": [\"Class 1\", \"Class 2\"], \" Age Group\": [\"Younsters\", \" Elders\"], \"Family\":[4, \"More Than 4\"]}\n",
    "index= [1,2]\n",
    "dff66=pd.DataFrame(data66,index)\n",
    "dff66"
   ]
  },
  {
   "cell_type": "markdown",
   "id": "3f48e43a",
   "metadata": {},
   "source": [
    "####  From my analysis of Titanic dataset I conclude that, women had higher chances of survival.\n",
    "#### The Class (Socio-Econominc status) of the passengers had played a vital role in their survival.\n",
    "####  From age group, youngsterst (20-30) survived more than other age groups and the lowest - elders( > 50)\n",
    "#### Survival rates increase up to family sizes of 4 people and then fall significantly for larger families."
   ]
  }
 ],
 "metadata": {
  "kernelspec": {
   "display_name": "Python 3",
   "language": "python",
   "name": "python3"
  },
  "language_info": {
   "codemirror_mode": {
    "name": "ipython",
    "version": 3
   },
   "file_extension": ".py",
   "mimetype": "text/x-python",
   "name": "python",
   "nbconvert_exporter": "python",
   "pygments_lexer": "ipython3",
   "version": "3.8.8"
  }
 },
 "nbformat": 4,
 "nbformat_minor": 5
}
